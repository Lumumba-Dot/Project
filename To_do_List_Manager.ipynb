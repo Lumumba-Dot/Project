{
 "cells": [
  {
   "cell_type": "code",
   "execution_count": 4,
   "id": "d0567956-46cf-4e02-8a54-4b015d077bd0",
   "metadata": {
    "tags": []
   },
   "outputs": [
    {
     "name": "stdout",
     "output_type": "stream",
     "text": [
      "Welcome to Lumumba's To-Do List Manager!\n",
      "1. Add Task\n",
      "2. Mark Task as Completed\n",
      "3. List Tasks\n",
      "4. Remove Task\n",
      "5. Quit\n"
     ]
    },
    {
     "name": "stdin",
     "output_type": "stream",
     "text": [
      "Select an action:  1\n",
      "Enter task description:  Develop and M&E framework\n"
     ]
    },
    {
     "name": "stdout",
     "output_type": "stream",
     "text": [
      "Task added!\n",
      "Welcome to Lumumba's To-Do List Manager!\n",
      "1. Add Task\n",
      "2. Mark Task as Completed\n",
      "3. List Tasks\n",
      "4. Remove Task\n",
      "5. Quit\n"
     ]
    },
    {
     "name": "stdin",
     "output_type": "stream",
     "text": [
      "Select an action:  1\n",
      "Enter task description:  Finalize STAJ Blue Print\n"
     ]
    },
    {
     "name": "stdout",
     "output_type": "stream",
     "text": [
      "Task added!\n",
      "Welcome to Lumumba's To-Do List Manager!\n",
      "1. Add Task\n",
      "2. Mark Task as Completed\n",
      "3. List Tasks\n",
      "4. Remove Task\n",
      "5. Quit\n"
     ]
    },
    {
     "name": "stdin",
     "output_type": "stream",
     "text": [
      "Select an action:  1\n",
      "Enter task description:  Develop Small Claims Action Plan\n"
     ]
    },
    {
     "name": "stdout",
     "output_type": "stream",
     "text": [
      "Task added!\n",
      "Welcome to Lumumba's To-Do List Manager!\n",
      "1. Add Task\n",
      "2. Mark Task as Completed\n",
      "3. List Tasks\n",
      "4. Remove Task\n",
      "5. Quit\n"
     ]
    },
    {
     "name": "stdin",
     "output_type": "stream",
     "text": [
      "Select an action:  1\n",
      "Enter task description:  Organize MER&L Training\n"
     ]
    },
    {
     "name": "stdout",
     "output_type": "stream",
     "text": [
      "Task added!\n",
      "Welcome to Lumumba's To-Do List Manager!\n",
      "1. Add Task\n",
      "2. Mark Task as Completed\n",
      "3. List Tasks\n",
      "4. Remove Task\n",
      "5. Quit\n"
     ]
    },
    {
     "name": "stdin",
     "output_type": "stream",
     "text": [
      "Select an action:  2\n",
      "Enter task index to mark as completed:  2\n"
     ]
    },
    {
     "name": "stdout",
     "output_type": "stream",
     "text": [
      "Task marked as completed.\n",
      "Welcome to Lumumba's To-Do List Manager!\n",
      "1. Add Task\n",
      "2. Mark Task as Completed\n",
      "3. List Tasks\n",
      "4. Remove Task\n",
      "5. Quit\n"
     ]
    },
    {
     "name": "stdin",
     "output_type": "stream",
     "text": [
      "Select an action:  2\n",
      "Enter task index to mark as completed:  2\n"
     ]
    },
    {
     "name": "stdout",
     "output_type": "stream",
     "text": [
      "Task is already marked as completed.\n",
      "Welcome to Lumumba's To-Do List Manager!\n",
      "1. Add Task\n",
      "2. Mark Task as Completed\n",
      "3. List Tasks\n",
      "4. Remove Task\n",
      "5. Quit\n"
     ]
    },
    {
     "name": "stdin",
     "output_type": "stream",
     "text": [
      "Select an action:  3\n"
     ]
    },
    {
     "name": "stdout",
     "output_type": "stream",
     "text": [
      "Tasks:\n",
      "0. Develop and M&E framework - Not Completed\n",
      "1. Finalize STAJ Blue Print - Not Completed\n",
      "2. Develop Small Claims Action Plan - Completed\n",
      "3. Organize MER&L Training - Not Completed\n",
      "Welcome to Lumumba's To-Do List Manager!\n",
      "1. Add Task\n",
      "2. Mark Task as Completed\n",
      "3. List Tasks\n",
      "4. Remove Task\n",
      "5. Quit\n"
     ]
    },
    {
     "name": "stdin",
     "output_type": "stream",
     "text": [
      "Select an action:  2\n",
      "Enter task index to mark as completed:  3\n"
     ]
    },
    {
     "name": "stdout",
     "output_type": "stream",
     "text": [
      "Task marked as completed.\n",
      "Welcome to Lumumba's To-Do List Manager!\n",
      "1. Add Task\n",
      "2. Mark Task as Completed\n",
      "3. List Tasks\n",
      "4. Remove Task\n",
      "5. Quit\n"
     ]
    },
    {
     "name": "stdin",
     "output_type": "stream",
     "text": [
      "Select an action:  3\n"
     ]
    },
    {
     "name": "stdout",
     "output_type": "stream",
     "text": [
      "Tasks:\n",
      "0. Develop and M&E framework - Not Completed\n",
      "1. Finalize STAJ Blue Print - Not Completed\n",
      "2. Develop Small Claims Action Plan - Completed\n",
      "3. Organize MER&L Training - Completed\n",
      "Welcome to Lumumba's To-Do List Manager!\n",
      "1. Add Task\n",
      "2. Mark Task as Completed\n",
      "3. List Tasks\n",
      "4. Remove Task\n",
      "5. Quit\n"
     ]
    },
    {
     "name": "stdin",
     "output_type": "stream",
     "text": [
      "Select an action:  5\n"
     ]
    },
    {
     "name": "stdout",
     "output_type": "stream",
     "text": [
      "Goodbye!\n"
     ]
    }
   ],
   "source": [
    "tasks = []\n",
    "\n",
    "def display_menu():\n",
    "    \"\"\"Display the menu of available actions.\"\"\"\n",
    "    print(\"Welcome to Lumumba's To-Do List Manager!\")\n",
    "    print(\"1. Add Task\")\n",
    "    print(\"2. Mark Task as Completed\")\n",
    "    print(\"3. List Tasks\")\n",
    "    print(\"4. Remove Task\")\n",
    "    print(\"5. Quit\")\n",
    "\n",
    "def add_task(task_description):\n",
    "    \"\"\"Add a task to the list of tasks.\"\"\"\n",
    "    tasks.append({\"description\": task_description, \"completed\": False})\n",
    "    print(\"Task added!\")\n",
    "\n",
    "def mark_task_completed(task_index):\n",
    "    \"\"\"Mark a task as completed.\"\"\"\n",
    "    if 0 <= task_index < len(tasks):\n",
    "        if tasks[task_index][\"completed\"]:\n",
    "            print(\"Task is already marked as completed.\")\n",
    "        else:\n",
    "            tasks[task_index][\"completed\"] = True\n",
    "            print(\"Task marked as completed.\")\n",
    "    else:\n",
    "        print(\"Invalid task index.\")\n",
    "\n",
    "def list_tasks():\n",
    "    \"\"\"List all tasks along with their completion status.\"\"\"\n",
    "    print(\"Tasks:\")\n",
    "    for index, task in enumerate(tasks):\n",
    "        status = \"Completed\" if task[\"completed\"] else \"Not Completed\"\n",
    "        print(f\"{index}. {task['description']} - {status}\")\n",
    "\n",
    "def remove_task(task_index):\n",
    "    \"\"\"Remove a task from the list.\"\"\"\n",
    "    if 0 <= task_index < len(tasks):\n",
    "        removed_task = tasks.pop(task_index)\n",
    "        print(f\"Task '{removed_task['description']}' removed.\")\n",
    "    else:\n",
    "        print(\"Invalid task index.\")\n",
    "\n",
    "def main():\n",
    "    \"\"\"Main function to run the To-Do List Manager.\"\"\"\n",
    "    while True:\n",
    "        display_menu()\n",
    "        choice = input(\"Select an action: \")\n",
    "\n",
    "        if choice == \"1\":\n",
    "            task_description = input(\"Enter task description: \")\n",
    "            add_task(task_description)\n",
    "        elif choice == \"2\":\n",
    "            task_index = int(input(\"Enter task index to mark as completed: \"))\n",
    "            mark_task_completed(task_index)\n",
    "        elif choice == \"3\":\n",
    "            list_tasks()\n",
    "        elif choice == \"4\":\n",
    "            task_index = int(input(\"Enter task index to remove: \"))\n",
    "            remove_task(task_index)\n",
    "        elif choice == \"5\":\n",
    "            print(\"Goodbye!\")\n",
    "            break\n",
    "        else:\n",
    "            print(\"Invalid choice. Please select a valid option.\")\n",
    "\n",
    "if __name__ == \"__main__\":\n",
    "    main()\n"
   ]
  },
  {
   "cell_type": "code",
   "execution_count": null,
   "id": "387afe84-56f1-469e-aa35-4d16e40f6849",
   "metadata": {},
   "outputs": [],
   "source": []
  }
 ],
 "metadata": {
  "kernelspec": {
   "display_name": "Python 3 (ipykernel)",
   "language": "python",
   "name": "python3"
  },
  "language_info": {
   "codemirror_mode": {
    "name": "ipython",
    "version": 3
   },
   "file_extension": ".py",
   "mimetype": "text/x-python",
   "name": "python",
   "nbconvert_exporter": "python",
   "pygments_lexer": "ipython3",
   "version": "3.11.3"
  }
 },
 "nbformat": 4,
 "nbformat_minor": 5
}
